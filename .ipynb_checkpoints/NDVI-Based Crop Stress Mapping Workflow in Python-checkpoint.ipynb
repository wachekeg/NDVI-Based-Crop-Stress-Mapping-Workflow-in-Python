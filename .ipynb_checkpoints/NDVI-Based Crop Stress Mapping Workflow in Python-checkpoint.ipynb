{
 "cells": [
  {
   "cell_type": "markdown",
   "id": "f24c384a",
   "metadata": {},
   "source": [
    "## Installation of Required Libraries"
   ]
  },
  {
   "cell_type": "code",
   "execution_count": 1,
   "id": "904c9919",
   "metadata": {},
   "outputs": [],
   "source": [
    "# pip install rasterio numpy matplotlib geopandas folium rasterstats shapely fiona"
   ]
  },
  {
   "cell_type": "markdown",
   "id": "5cf3da64",
   "metadata": {},
   "source": [
    "## Inputs\n",
    "\n",
    "Red and NIR bands (GeoTIFF)"
   ]
  },
  {
   "cell_type": "markdown",
   "id": "8fd059f1",
   "metadata": {},
   "source": [
    "## Load Red & NIR Bands"
   ]
  },
  {
   "cell_type": "code",
   "execution_count": 2,
   "id": "c7441e7f",
   "metadata": {},
   "outputs": [
    {
     "name": "stderr",
     "output_type": "stream",
     "text": [
      "C:\\Users\\temp\\anaconda3\\Lib\\site-packages\\pandas\\core\\arrays\\masked.py:60: UserWarning: Pandas requires version '1.3.6' or newer of 'bottleneck' (version '1.3.5' currently installed).\n",
      "  from pandas.core import (\n"
     ]
    }
   ],
   "source": [
    "import rasterio\n",
    "import numpy as np\n",
    "from rasterio.mask import mask\n",
    "import geopandas as gpd\n",
    "import warnings\n",
    "warnings.filterwarnings('ignore')\n",
    "\n",
    "\n",
    "def load_bands(red_path, nir_path, boundary_path=None):\n",
    "    with rasterio.open(red_path) as red_src, rasterio.open(nir_path) as nir_src:\n",
    "        if boundary_path:\n",
    "            # Load the boundary geometry\n",
    "            boundary = gpd.read_file(boundary_path)\n",
    "            boundary = boundary.to_crs(red_src.crs)  # Ensure same CRS\n",
    "\n",
    "            # Clip red and NIR bands\n",
    "            red_band, red_transform = mask(red_src, boundary.geometry, crop=True)\n",
    "            nir_band, nir_transform = mask(nir_src, boundary.geometry, crop=True)\n",
    "\n",
    "            # Update profile\n",
    "            profile = red_src.profile.copy()\n",
    "            profile.update({\n",
    "                \"height\": red_band.shape[1],\n",
    "                \"width\": red_band.shape[2],\n",
    "                \"transform\": red_transform\n",
    "            })\n",
    "\n",
    "            return red_band[0].astype(\"float32\"), nir_band[0].astype(\"float32\"), profile\n",
    "        else:\n",
    "            red_band = red_src.read(1).astype(\"float32\")\n",
    "            nir_band = nir_src.read(1).astype(\"float32\")\n",
    "            profile = red_src.profile\n",
    "\n",
    "            return red_band, nir_band, profile"
   ]
  },
  {
   "cell_type": "markdown",
   "id": "e5146a84",
   "metadata": {},
   "source": [
    "## Clipping To Boundary"
   ]
  },
  {
   "cell_type": "code",
   "execution_count": 3,
   "id": "b46fcc45",
   "metadata": {},
   "outputs": [],
   "source": [
    "import rasterio\n",
    "from rasterio.mask import mask\n",
    "import geopandas as gpd\n",
    "\n",
    "def clip_to_boundary(raster_path, boundary_path):\n",
    "\n",
    "    with rasterio.open(raster_path) as src:\n",
    "        boundary = gpd.read_file(boundary_path)\n",
    "        boundary = boundary.to_crs(src.crs)  # Ensure same CRS\n",
    "        geoms = [feature[\"geometry\"] for feature in boundary.__geo_interface__[\"features\"]]\n",
    "        \n",
    "        out_image, out_transform = mask(src, geoms, crop=True)\n",
    "        out_meta = src.meta.copy()\n",
    "        out_meta.update({\n",
    "            \"height\": out_image.shape[1],\n",
    "            \"width\": out_image.shape[2],\n",
    "            \"transform\": out_transform\n",
    "        })\n",
    "\n",
    "    return out_image[0], out_meta"
   ]
  },
  {
   "cell_type": "markdown",
   "id": "e7142b31",
   "metadata": {},
   "source": [
    "## Compute NDVI from arrays"
   ]
  },
  {
   "cell_type": "code",
   "execution_count": 4,
   "id": "df754453",
   "metadata": {},
   "outputs": [],
   "source": [
    "def calculate_ndvi(nir_band, red_band):\n",
    "    ndvi = (nir_band - red_band) / (nir_band + red_band + 1e-6)\n",
    "    ndvi = np.clip(ndvi, -1, 1)\n",
    "    return ndvi"
   ]
  },
  {
   "cell_type": "markdown",
   "id": "3b3a9a13",
   "metadata": {},
   "source": [
    "## Threshold NDVI into Stress Classes"
   ]
  },
  {
   "cell_type": "code",
   "execution_count": 5,
   "id": "6d89ec8c",
   "metadata": {},
   "outputs": [],
   "source": [
    "def classify_ndvi(ndvi):\n",
    "    ndvi_class = np.zeros_like(ndvi, dtype=np.uint8)\n",
    "    ndvi_class[(ndvi >= -1.0) & (ndvi < 0.2)] = 1  # Bare/Dead\n",
    "    ndvi_class[(ndvi >= 0.2) & (ndvi < 0.4)] = 2  # Stressed\n",
    "    ndvi_class[(ndvi >= 0.4) & (ndvi < 0.6)] = 3  # Moderate\n",
    "    ndvi_class[(ndvi >= 0.6) & (ndvi <= 1.0)] = 4  # Healthy\n",
    "    return ndvi_class"
   ]
  },
  {
   "cell_type": "markdown",
   "id": "f76675eb",
   "metadata": {},
   "source": [
    "## Save Static NDVI Stress Map"
   ]
  },
  {
   "cell_type": "code",
   "execution_count": 6,
   "id": "fcf1ef39",
   "metadata": {},
   "outputs": [],
   "source": [
    "# pip install \"numpy<2\""
   ]
  },
  {
   "cell_type": "code",
   "execution_count": 7,
   "id": "b6e476d0",
   "metadata": {},
   "outputs": [],
   "source": [
    "import matplotlib.pyplot as plt \n",
    "from matplotlib.colors import ListedColormap\n",
    "\n",
    "def plot_stress_map(ndvi_class, output_basename):\n",
    "    cmap = ListedColormap([\"gray\", \"brown\", \"orange\", \"yellowgreen\", \"green\"])\n",
    "    labels = [\"No Data\", \"Bare/Dead\", \"Stressed\", \"Moderate\", \"Healthy\"]\n",
    "\n",
    "    plt.figure(figsize=(10, 8))\n",
    "    im = plt.imshow(ndvi_class, cmap=cmap, vmin=0, vmax=5)  # vmax adjusted for 5 intervals\n",
    "\n",
    "    # Create ticks at the center of each class\n",
    "    cbar = plt.colorbar(im, ticks=[0.5, 1.5, 2.5, 3.5, 4.5])\n",
    "    cbar.ax.set_yticklabels(labels)\n",
    "\n",
    "    plt.title(\"Vegetation Stress Map (NDVI Classes)\")\n",
    "    plt.axis(\"off\")\n",
    "    plt.savefig(f\"{output_basename}.jpg\", dpi=300, bbox_inches='tight')\n",
    "    plt.savefig(f\"{output_basename}.pdf\", bbox_inches='tight')\n",
    "    plt.show()\n",
    "    plt.close()"
   ]
  },
  {
   "cell_type": "markdown",
   "id": "4eee6a3b",
   "metadata": {},
   "source": [
    "## Export Classified NDVI as Raster"
   ]
  },
  {
   "cell_type": "code",
   "execution_count": 8,
   "id": "351913a3",
   "metadata": {},
   "outputs": [],
   "source": [
    "def export_classified_raster(ndvi, classified_ndvi, profile, output_path):\n",
    "    # Create a new array to hold NDVI values\n",
    "    output_ndvi = np.where(classified_ndvi > 0, ndvi, np.nan)  # Set NaN for areas not classified\n",
    "\n",
    "    # Update the profile for the NDVI raster\n",
    "    profile.update(dtype=rasterio.float32, count=1, compress='lzw', nodata=np.nan)  # Set nodata to NaN\n",
    "\n",
    "    # Export the classified NDVI raster with original NDVI values\n",
    "    with rasterio.open(output_path, 'w', **profile) as dst:\n",
    "        dst.write(output_ndvi.astype(np.float32), 1)  # Write the original NDVI values"
   ]
  },
  {
   "cell_type": "markdown",
   "id": "14398732",
   "metadata": {},
   "source": [
    "## Create Interactive Map (Folium)"
   ]
  },
  {
   "cell_type": "code",
   "execution_count": 9,
   "id": "7501acb8",
   "metadata": {},
   "outputs": [],
   "source": [
    "import folium  \n",
    "import numpy as np\n",
    "import geopandas as gpd\n",
    "import matplotlib\n",
    "from folium import GeoJsonTooltip\n",
    "from rasterio.features import shapes\n",
    "from shapely.geometry import shape\n",
    "\n",
    "def create_interactive_map_ndvi_class(ndvi_array, profile):\n",
    "    # Step 1: Convert raster to polygons\n",
    "    mask = ndvi_array > 0\n",
    "    results = (\n",
    "        {\"properties\": {\"class\": int(v)}, \"geometry\": shape(s)}\n",
    "        for s, v in shapes(ndvi_array, mask=mask, transform=profile[\"transform\"])\n",
    "    )\n",
    "\n",
    "    # Step 2: Create GeoDataFrame\n",
    "    gdf = gpd.GeoDataFrame.from_features(list(results))\n",
    "    gdf.crs = profile[\"crs\"]\n",
    "    gdf = gdf.to_crs(epsg=4326)\n",
    "\n",
    "    if gdf.empty:\n",
    "        print(\"GeoDataFrame is empty — no valid NDVI classes found.\")\n",
    "        return None\n",
    "\n",
    "    # Step 3: Add labels and colors\n",
    "    class_label_map = {\n",
    "        1: \"Very Stressed\",\n",
    "        2: \"Stressed\",\n",
    "        3: \"Moderately Healthy\",\n",
    "        4: \"Healthy\"\n",
    "    }\n",
    "    gdf[\"label\"] = gdf[\"class\"].map(class_label_map)\n",
    "\n",
    "    # Assign unique colors\n",
    "    colormap = matplotlib.cm.get_cmap('RdYlGn', len(class_label_map))\n",
    "    colors = [matplotlib.colors.rgb2hex(colormap(i)) for i in range(colormap.N)]\n",
    "    class_colors = {cls: colors[i] for i, cls in enumerate(sorted(class_label_map.keys()))}\n",
    "\n",
    "    def style_function(feature):\n",
    "        return {\n",
    "            'fillColor': class_colors.get(feature['properties']['class'], \"#cccccc\"),\n",
    "            'color': 'black',\n",
    "            'weight': 0.3,\n",
    "            'fillOpacity': 0.6,\n",
    "        }\n",
    "\n",
    "    # Step 4: Create the map\n",
    "    bounds = gdf.total_bounds\n",
    "    center = [(bounds[1] + bounds[3]) / 2, (bounds[0] + bounds[2]) / 2]\n",
    "\n",
    "    m = folium.Map(location=center, zoom_start=15, min_zoom=10, max_zoom=20, control_scale=True)\n",
    "\n",
    "    # Step 5: Add GeoJson overlay with tooltip\n",
    "    folium.GeoJson(\n",
    "        gdf,\n",
    "        name=\"NDVI Classes\",\n",
    "        style_function=style_function,\n",
    "        tooltip=GeoJsonTooltip(fields=[\"label\"], aliases=[\"Vegetation Status:\"])\n",
    "    ).add_to(m)\n",
    "\n",
    "    return m"
   ]
  },
  {
   "cell_type": "markdown",
   "id": "4a871ab8",
   "metadata": {},
   "source": [
    "## Vectorize Stressed NDVI Classes "
   ]
  },
  {
   "cell_type": "code",
   "execution_count": 10,
   "id": "48f4b546",
   "metadata": {},
   "outputs": [],
   "source": [
    "import rasterio\n",
    "from rasterio.features import shapes\n",
    "import geopandas as gpd\n",
    "from shapely.geometry import shape\n",
    "\n",
    "def raster_to_polygons(raster_path, output_shapefile):\n",
    "    with rasterio.open(raster_path) as src:\n",
    "        img = src.read(1)  # Read the first band\n",
    "        mask = img > 0  # Create a mask for non-zero values\n",
    "        \n",
    "        # Vectorize the shapes while filtering for classes 1 (Bare/Dead), 2 (Stressed), and 3 (Moderate)\n",
    "        results = (\n",
    "            {'properties': {'class': int(v)}, 'geometry': shape(s)}\n",
    "            for s, v in shapes(img, mask=mask, transform=src.transform)\n",
    "            if v in [1, 2, 3]  # Only include classes Bare/Dead, Stressed, and Moderate\n",
    "        )\n",
    "        \n",
    "        geoms = list(results)\n",
    "    \n",
    "    # Create GeoDataFrame from the filtered geometries\n",
    "    gdf = gpd.GeoDataFrame.from_features(geoms)\n",
    "    gdf.crs = src.crs  # Assign the CRS from the raster source\n",
    "    \n",
    "    # Save to the specified shapefile\n",
    "    gdf.to_file(output_shapefile)\n",
    "\n",
    "    print(f\"Vectorized {len(gdf)} polygons into {output_shapefile}\")\n"
   ]
  },
  {
   "cell_type": "markdown",
   "id": "c7d549f8",
   "metadata": {},
   "source": [
    "## Compute Zonal Statistics "
   ]
  },
  {
   "cell_type": "code",
   "execution_count": 11,
   "id": "04c18578",
   "metadata": {},
   "outputs": [],
   "source": [
    "def compute_class_percentage(classified_raster):\n",
    "    total_pixels = classified_raster.size\n",
    "    class_counts = np.bincount(classified_raster.flatten())\n",
    "\n",
    "    # Define a mapping of class indices to class names\n",
    "    class_names = {\n",
    "        1: \"Bare/Dead\",\n",
    "        2: \"Stressed\",\n",
    "        3: \"Moderate\",\n",
    "        4: \"Healthy\"\n",
    "    }\n",
    "\n",
    "    # Calculate percentage of each class with names\n",
    "    percentages = {\n",
    "        class_names[i]: (count / total_pixels) * 100 \n",
    "        for i, count in enumerate(class_counts) if i in class_names\n",
    "    }\n",
    "    \n",
    "    return percentages"
   ]
  },
  {
   "cell_type": "markdown",
   "id": "497007da",
   "metadata": {},
   "source": [
    "## Combining the Steps"
   ]
  },
  {
   "cell_type": "code",
   "execution_count": 12,
   "id": "337526ce",
   "metadata": {},
   "outputs": [],
   "source": [
    "import numpy as np\n",
    "import rasterio\n",
    "import matplotlib.pyplot as plt\n",
    "from rasterstats import zonal_stats\n",
    "import geopandas as gpd\n",
    "import folium\n",
    "import branca.colormap as cm\n",
    "from rasterio.features import shapes\n",
    "\n",
    "# Function Definitions (Include all the functions provided above)\n",
    "\n",
    "if __name__ == \"__main__\":\n",
    "   \n",
    "    red_band = \"Paddy 1/result_Red.tif\"\n",
    "    nir_band = \"Paddy 1/result_NIR.tif\"\n",
    "    boundary = \"Extent/Paddy_1.shp\""
   ]
  },
  {
   "cell_type": "code",
   "execution_count": 13,
   "id": "282ba7a5",
   "metadata": {},
   "outputs": [],
   "source": [
    "#Load and clip the bands\n",
    "red_band, nir_band, profile = load_bands(red_band, nir_band, boundary)"
   ]
  },
  {
   "cell_type": "code",
   "execution_count": 14,
   "id": "93032f51",
   "metadata": {},
   "outputs": [],
   "source": [
    "# 1. Calculate NDVI\n",
    "ndvi = calculate_ndvi(nir_band, red_band)"
   ]
  },
  {
   "cell_type": "code",
   "execution_count": 15,
   "id": "7b158f91",
   "metadata": {},
   "outputs": [],
   "source": [
    "# 2. Classify NDVI\n",
    "ndvi_class = classify_ndvi(ndvi)"
   ]
  },
  {
   "cell_type": "code",
   "execution_count": 16,
   "id": "0b82694d",
   "metadata": {},
   "outputs": [
    {
     "data": {
      "image/png": "[encoded data removed]",
      "text/plain": [
       "<Figure size 1000x800 with 2 Axes>"
      ]
     },
     "metadata": {},
     "output_type": "display_data"
    }
   ],
   "source": [
    "# 3. Static NDVI Stress Maps\n",
    "plot_stress_map(ndvi_class, \"ndvi_stress_map\")"
   ]
  },
  {
   "cell_type": "code",
   "execution_count": 17,
   "id": "17fcddfc",
   "metadata": {},
   "outputs": [],
   "source": [
    "# 4. Export classified NDVI raster\n",
    "export_classified_raster(ndvi, ndvi_class, profile, \"ndvi_classified.tif\")"
   ]
  },
  {
   "cell_type": "code",
   "execution_count": 18,
   "id": "e151b0c4",
   "metadata": {},
   "outputs": [
    {
     "name": "stdout",
     "output_type": "stream",
     "text": [
      "NDVI Class Percentages:\n",
      "Bare/Dead: 0.34%\n",
      "Stressed: 0.58%\n",
      "Moderate: 2.44%\n",
      "Healthy: 53.33%\n"
     ]
    }
   ],
   "source": [
    "# 5. Compute class percentages\n",
    "percentages = compute_class_percentage(ndvi_class)\n",
    "print(\"NDVI Class Percentages:\")\n",
    "for class_name, percent in percentages.items():\n",
    "    print(f\"{class_name}: {percent:.2f}%\")"
   ]
  },
  {
   "cell_type": "code",
   "execution_count": 19,
   "id": "3877cced",
   "metadata": {},
   "outputs": [],
   "source": [
    "# 6. Create Interactive Map\n",
    "m = create_interactive_map_ndvi_class(ndvi_class,profile)\n",
    "m.save(\"ndvi_stress_interactive.html\")"
   ]
  },
  {
   "cell_type": "code",
   "execution_count": null,
   "id": "94970450",
   "metadata": {},
   "outputs": [],
   "source": [
    "# 7. Create shapefiles of stress classes\n",
    "raster_to_polygons(\"ndvi_classified.tif\", \"stress_classes.shp\")"
   ]
  },
  {
   "cell_type": "code",
   "execution_count": null,
   "id": "03522f0f",
   "metadata": {},
   "outputs": [],
   "source": []
  }
 ],
 "metadata": {
  "kernelspec": {
   "display_name": "Python 3 (ipykernel)",
   "language": "python",
   "name": "python3"
  },
  "language_info": {
   "codemirror_mode": {
    "name": "ipython",
    "version": 3
   },
   "file_extension": ".py",
   "mimetype": "text/x-python",
   "name": "python",
   "nbconvert_exporter": "python",
   "pygments_lexer": "ipython3",
   "version": "3.11.5"
  }
 },
 "nbformat": 4,
 "nbformat_minor": 5
}
